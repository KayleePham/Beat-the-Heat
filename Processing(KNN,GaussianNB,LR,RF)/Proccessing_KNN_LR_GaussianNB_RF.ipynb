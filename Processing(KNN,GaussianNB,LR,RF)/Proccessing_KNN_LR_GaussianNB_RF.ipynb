{
 "cells": [
  {
   "cell_type": "code",
   "execution_count": 1,
   "id": "efficient-perception",
   "metadata": {},
   "outputs": [],
   "source": [
    "#Load libaries\n",
    "import os\n",
    "import pandas as pd \n",
    "import seaborn as sns\n",
    "import numpy as np \n",
    "import matplotlib.pyplot as plt \n",
    "from pydotplus import graph_from_dot_data\n",
    "from sklearn import preprocessing\n",
    "from sklearn.preprocessing import StandardScaler, LabelEncoder\n",
    "from scipy import stats\n",
    "from sklearn.linear_model import LogisticRegression\n",
    "from sklearn.naive_bayes import MultinomialNB\n",
    "from sklearn.naive_bayes import GaussianNB\n",
    "from sklearn.neighbors import KNeighborsClassifier\n",
    "from sklearn.ensemble import RandomForestClassifier, RandomForestRegressor\n",
    "from sklearn.svm import SVC \n",
    "from sklearn import svm, metrics\n",
    "from sklearn.model_selection import GridSearchCV\n",
    "from sklearn.metrics import confusion_matrix, classification_report\n",
    "from sklearn.model_selection import train_test_split, GridSearchCV, cross_validate, cross_val_score, KFold\n",
    "from sklearn.linear_model import ElasticNet\n",
    "from sklearn.metrics import mean_squared_error\n",
    "from sklearn.metrics import roc_curve\n",
    "from sklearn.metrics import roc_auc_score\n",
    "\n",
    "#Load datasets\n",
    "#ex_data =  pd.read_csv('sayad_dataset.csv')\n",
    "data = pd.read_csv('CA_Wildfires.csv')                      # First build dataset on all CA\n",
    "#data = pd.read_csv('CA_Wildfires_by_county.csv')           # Data on 44 counties\n",
    "#data = pd.read_csv('CA_Wildfires_fire_seasonV2.csv')\n",
    "#data = pd.read_csv('CA_Wildfires_4_Counties_June-Oct.csv')\n",
    "#data = pd.read_csv('CA_Wildfires2020.txt')"
   ]
  },
  {
   "cell_type": "code",
   "execution_count": 2,
   "id": "linear-facing",
   "metadata": {},
   "outputs": [
    {
     "data": {
      "text/html": [
       "<div>\n",
       "<style scoped>\n",
       "    .dataframe tbody tr th:only-of-type {\n",
       "        vertical-align: middle;\n",
       "    }\n",
       "\n",
       "    .dataframe tbody tr th {\n",
       "        vertical-align: top;\n",
       "    }\n",
       "\n",
       "    .dataframe thead th {\n",
       "        text-align: right;\n",
       "    }\n",
       "</style>\n",
       "<table border=\"1\" class=\"dataframe\">\n",
       "  <thead>\n",
       "    <tr style=\"text-align: right;\">\n",
       "      <th></th>\n",
       "      <th>NDVI</th>\n",
       "      <th>LST</th>\n",
       "      <th>TA</th>\n",
       "      <th>Class</th>\n",
       "    </tr>\n",
       "  </thead>\n",
       "  <tbody>\n",
       "    <tr>\n",
       "      <th>0</th>\n",
       "      <td>0.241233</td>\n",
       "      <td>280.170902</td>\n",
       "      <td>5.0</td>\n",
       "      <td>No_fire</td>\n",
       "    </tr>\n",
       "    <tr>\n",
       "      <th>1</th>\n",
       "      <td>0.242536</td>\n",
       "      <td>281.678667</td>\n",
       "      <td>5.0</td>\n",
       "      <td>No_fire</td>\n",
       "    </tr>\n",
       "    <tr>\n",
       "      <th>2</th>\n",
       "      <td>0.243840</td>\n",
       "      <td>285.865983</td>\n",
       "      <td>5.0</td>\n",
       "      <td>No_fire</td>\n",
       "    </tr>\n",
       "    <tr>\n",
       "      <th>3</th>\n",
       "      <td>0.245143</td>\n",
       "      <td>283.249994</td>\n",
       "      <td>5.0</td>\n",
       "      <td>No_fire</td>\n",
       "    </tr>\n",
       "    <tr>\n",
       "      <th>4</th>\n",
       "      <td>0.246446</td>\n",
       "      <td>275.546052</td>\n",
       "      <td>4.0</td>\n",
       "      <td>No_fire</td>\n",
       "    </tr>\n",
       "  </tbody>\n",
       "</table>\n",
       "</div>"
      ],
      "text/plain": [
       "       NDVI         LST   TA    Class\n",
       "0  0.241233  280.170902  5.0  No_fire\n",
       "1  0.242536  281.678667  5.0  No_fire\n",
       "2  0.243840  285.865983  5.0  No_fire\n",
       "3  0.245143  283.249994  5.0  No_fire\n",
       "4  0.246446  275.546052  4.0  No_fire"
      ]
     },
     "execution_count": 2,
     "metadata": {},
     "output_type": "execute_result"
    }
   ],
   "source": [
    "data.head()"
   ]
  },
  {
   "cell_type": "code",
   "execution_count": 3,
   "id": "sudden-termination",
   "metadata": {},
   "outputs": [],
   "source": [
    "data[\"Class\"].replace({\"Fire\": 1, \"No_fire\": 0}, inplace=True)\n",
    "data = data[['NDVI','LST','TA','Class']]"
   ]
  },
  {
   "cell_type": "code",
   "execution_count": 4,
   "id": "quality-original",
   "metadata": {},
   "outputs": [
    {
     "data": {
      "text/html": [
       "<div>\n",
       "<style scoped>\n",
       "    .dataframe tbody tr th:only-of-type {\n",
       "        vertical-align: middle;\n",
       "    }\n",
       "\n",
       "    .dataframe tbody tr th {\n",
       "        vertical-align: top;\n",
       "    }\n",
       "\n",
       "    .dataframe thead th {\n",
       "        text-align: right;\n",
       "    }\n",
       "</style>\n",
       "<table border=\"1\" class=\"dataframe\">\n",
       "  <thead>\n",
       "    <tr style=\"text-align: right;\">\n",
       "      <th></th>\n",
       "      <th>NDVI</th>\n",
       "      <th>LST</th>\n",
       "      <th>TA</th>\n",
       "      <th>Class</th>\n",
       "    </tr>\n",
       "  </thead>\n",
       "  <tbody>\n",
       "    <tr>\n",
       "      <th>0</th>\n",
       "      <td>0.241233</td>\n",
       "      <td>280.170902</td>\n",
       "      <td>5.0</td>\n",
       "      <td>0</td>\n",
       "    </tr>\n",
       "    <tr>\n",
       "      <th>1</th>\n",
       "      <td>0.242536</td>\n",
       "      <td>281.678667</td>\n",
       "      <td>5.0</td>\n",
       "      <td>0</td>\n",
       "    </tr>\n",
       "    <tr>\n",
       "      <th>2</th>\n",
       "      <td>0.243840</td>\n",
       "      <td>285.865983</td>\n",
       "      <td>5.0</td>\n",
       "      <td>0</td>\n",
       "    </tr>\n",
       "    <tr>\n",
       "      <th>3</th>\n",
       "      <td>0.245143</td>\n",
       "      <td>283.249994</td>\n",
       "      <td>5.0</td>\n",
       "      <td>0</td>\n",
       "    </tr>\n",
       "    <tr>\n",
       "      <th>4</th>\n",
       "      <td>0.246446</td>\n",
       "      <td>275.546052</td>\n",
       "      <td>4.0</td>\n",
       "      <td>0</td>\n",
       "    </tr>\n",
       "    <tr>\n",
       "      <th>...</th>\n",
       "      <td>...</td>\n",
       "      <td>...</td>\n",
       "      <td>...</td>\n",
       "      <td>...</td>\n",
       "    </tr>\n",
       "    <tr>\n",
       "      <th>726</th>\n",
       "      <td>0.323556</td>\n",
       "      <td>285.095924</td>\n",
       "      <td>5.0</td>\n",
       "      <td>0</td>\n",
       "    </tr>\n",
       "    <tr>\n",
       "      <th>727</th>\n",
       "      <td>0.322612</td>\n",
       "      <td>279.868729</td>\n",
       "      <td>8.0</td>\n",
       "      <td>0</td>\n",
       "    </tr>\n",
       "    <tr>\n",
       "      <th>728</th>\n",
       "      <td>0.321667</td>\n",
       "      <td>281.404568</td>\n",
       "      <td>5.0</td>\n",
       "      <td>0</td>\n",
       "    </tr>\n",
       "    <tr>\n",
       "      <th>729</th>\n",
       "      <td>0.320723</td>\n",
       "      <td>284.108339</td>\n",
       "      <td>5.0</td>\n",
       "      <td>0</td>\n",
       "    </tr>\n",
       "    <tr>\n",
       "      <th>730</th>\n",
       "      <td>0.319778</td>\n",
       "      <td>279.166502</td>\n",
       "      <td>5.0</td>\n",
       "      <td>0</td>\n",
       "    </tr>\n",
       "  </tbody>\n",
       "</table>\n",
       "<p>731 rows × 4 columns</p>\n",
       "</div>"
      ],
      "text/plain": [
       "         NDVI         LST   TA  Class\n",
       "0    0.241233  280.170902  5.0      0\n",
       "1    0.242536  281.678667  5.0      0\n",
       "2    0.243840  285.865983  5.0      0\n",
       "3    0.245143  283.249994  5.0      0\n",
       "4    0.246446  275.546052  4.0      0\n",
       "..        ...         ...  ...    ...\n",
       "726  0.323556  285.095924  5.0      0\n",
       "727  0.322612  279.868729  8.0      0\n",
       "728  0.321667  281.404568  5.0      0\n",
       "729  0.320723  284.108339  5.0      0\n",
       "730  0.319778  279.166502  5.0      0\n",
       "\n",
       "[731 rows x 4 columns]"
      ]
     },
     "execution_count": 4,
     "metadata": {},
     "output_type": "execute_result"
    }
   ],
   "source": [
    "data"
   ]
  },
  {
   "cell_type": "code",
   "execution_count": 5,
   "id": "shaped-banner",
   "metadata": {},
   "outputs": [
    {
     "data": {
      "text/plain": [
       "0    439\n",
       "1    292\n",
       "Name: Class, dtype: int64"
      ]
     },
     "execution_count": 5,
     "metadata": {},
     "output_type": "execute_result"
    }
   ],
   "source": [
    "Count=data.Class.value_counts() #count target feature \n",
    "Count"
   ]
  },
  {
   "cell_type": "code",
   "execution_count": 6,
   "id": "continent-watts",
   "metadata": {},
   "outputs": [
    {
     "name": "stdout",
     "output_type": "stream",
     "text": [
      "Proportion: 1.5 : 1\n"
     ]
    }
   ],
   "source": [
    "print('Proportion:', round(Count[0] / Count[1], 2), ': 1')\n"
   ]
  },
  {
   "cell_type": "code",
   "execution_count": 7,
   "id": "right-closer",
   "metadata": {},
   "outputs": [
    {
     "name": "stdout",
     "output_type": "stream",
     "text": [
      "<class 'pandas.core.frame.DataFrame'>\n",
      "RangeIndex: 731 entries, 0 to 730\n",
      "Data columns (total 4 columns):\n",
      " #   Column  Non-Null Count  Dtype  \n",
      "---  ------  --------------  -----  \n",
      " 0   NDVI    731 non-null    float64\n",
      " 1   LST     731 non-null    float64\n",
      " 2   TA      731 non-null    float64\n",
      " 3   Class   731 non-null    int64  \n",
      "dtypes: float64(3), int64(1)\n",
      "memory usage: 23.0 KB\n"
     ]
    }
   ],
   "source": [
    "data.info()"
   ]
  },
  {
   "cell_type": "code",
   "execution_count": 8,
   "id": "broke-biography",
   "metadata": {},
   "outputs": [
    {
     "data": {
      "text/html": [
       "<div>\n",
       "<style scoped>\n",
       "    .dataframe tbody tr th:only-of-type {\n",
       "        vertical-align: middle;\n",
       "    }\n",
       "\n",
       "    .dataframe tbody tr th {\n",
       "        vertical-align: top;\n",
       "    }\n",
       "\n",
       "    .dataframe thead th {\n",
       "        text-align: right;\n",
       "    }\n",
       "</style>\n",
       "<table border=\"1\" class=\"dataframe\">\n",
       "  <thead>\n",
       "    <tr style=\"text-align: right;\">\n",
       "      <th></th>\n",
       "      <th>NDVI</th>\n",
       "      <th>LST</th>\n",
       "      <th>TA</th>\n",
       "      <th>Class</th>\n",
       "    </tr>\n",
       "  </thead>\n",
       "  <tbody>\n",
       "    <tr>\n",
       "      <th>count</th>\n",
       "      <td>731.000000</td>\n",
       "      <td>731.000000</td>\n",
       "      <td>731.000000</td>\n",
       "      <td>731.000000</td>\n",
       "    </tr>\n",
       "    <tr>\n",
       "      <th>mean</th>\n",
       "      <td>0.346921</td>\n",
       "      <td>299.274804</td>\n",
       "      <td>6.214774</td>\n",
       "      <td>0.399453</td>\n",
       "    </tr>\n",
       "    <tr>\n",
       "      <th>std</th>\n",
       "      <td>0.070728</td>\n",
       "      <td>10.908013</td>\n",
       "      <td>1.818203</td>\n",
       "      <td>0.490121</td>\n",
       "    </tr>\n",
       "    <tr>\n",
       "      <th>min</th>\n",
       "      <td>0.211590</td>\n",
       "      <td>269.997587</td>\n",
       "      <td>4.000000</td>\n",
       "      <td>0.000000</td>\n",
       "    </tr>\n",
       "    <tr>\n",
       "      <th>25%</th>\n",
       "      <td>0.286646</td>\n",
       "      <td>289.686953</td>\n",
       "      <td>5.000000</td>\n",
       "      <td>0.000000</td>\n",
       "    </tr>\n",
       "    <tr>\n",
       "      <th>50%</th>\n",
       "      <td>0.338579</td>\n",
       "      <td>300.684537</td>\n",
       "      <td>5.000000</td>\n",
       "      <td>0.000000</td>\n",
       "    </tr>\n",
       "    <tr>\n",
       "      <th>75%</th>\n",
       "      <td>0.399905</td>\n",
       "      <td>308.593247</td>\n",
       "      <td>9.000000</td>\n",
       "      <td>1.000000</td>\n",
       "    </tr>\n",
       "    <tr>\n",
       "      <th>max</th>\n",
       "      <td>0.588486</td>\n",
       "      <td>318.525754</td>\n",
       "      <td>9.000000</td>\n",
       "      <td>1.000000</td>\n",
       "    </tr>\n",
       "  </tbody>\n",
       "</table>\n",
       "</div>"
      ],
      "text/plain": [
       "             NDVI         LST          TA       Class\n",
       "count  731.000000  731.000000  731.000000  731.000000\n",
       "mean     0.346921  299.274804    6.214774    0.399453\n",
       "std      0.070728   10.908013    1.818203    0.490121\n",
       "min      0.211590  269.997587    4.000000    0.000000\n",
       "25%      0.286646  289.686953    5.000000    0.000000\n",
       "50%      0.338579  300.684537    5.000000    0.000000\n",
       "75%      0.399905  308.593247    9.000000    1.000000\n",
       "max      0.588486  318.525754    9.000000    1.000000"
      ]
     },
     "execution_count": 8,
     "metadata": {},
     "output_type": "execute_result"
    }
   ],
   "source": [
    "data.describe() # Statistic summary"
   ]
  },
  {
   "cell_type": "code",
   "execution_count": 9,
   "id": "special-alfred",
   "metadata": {},
   "outputs": [
    {
     "data": {
      "text/plain": [
       "NDVI     0\n",
       "LST      0\n",
       "TA       0\n",
       "Class    0\n",
       "dtype: int64"
      ]
     },
     "execution_count": 9,
     "metadata": {},
     "output_type": "execute_result"
    }
   ],
   "source": [
    "data.isnull().sum() # return number of missing value for each column"
   ]
  },
  {
   "cell_type": "code",
   "execution_count": 10,
   "id": "phantom-setup",
   "metadata": {},
   "outputs": [],
   "source": [
    "#data = data.fillna(data.mean()) #Fill 13 missing values in NDVI with average NDVI\n",
    "#data = data.dropna() #drop all rows contain NaN"
   ]
  },
  {
   "cell_type": "code",
   "execution_count": 11,
   "id": "efficient-stretch",
   "metadata": {},
   "outputs": [
    {
     "data": {
      "text/plain": [
       "NDVI    0.483825\n",
       "LST    -0.225125\n",
       "TA      0.759359\n",
       "dtype: float64"
      ]
     },
     "execution_count": 11,
     "metadata": {},
     "output_type": "execute_result"
    }
   ],
   "source": [
    "data.drop(columns='Class').skew(axis = 0) # return skewness of each independent feature"
   ]
  },
  {
   "cell_type": "code",
   "execution_count": 12,
   "id": "invisible-application",
   "metadata": {},
   "outputs": [
    {
     "data": {
      "image/png": "[encoded data removed]",
      "text/plain": [
       "<Figure size 1152x864 with 12 Axes>"
      ]
     },
     "metadata": {
      "needs_background": "light"
     },
     "output_type": "display_data"
    }
   ],
   "source": [
    "# Density\n",
    "data.drop(columns='Class').plot(kind='density', subplots=True, layout=(4,3),figsize=(16, 12), sharex=False)\n",
    "plt.show()"
   ]
  },
  {
   "cell_type": "code",
   "execution_count": 13,
   "id": "searching-monster",
   "metadata": {},
   "outputs": [
    {
     "data": {
      "text/html": [
       "<div>\n",
       "<style scoped>\n",
       "    .dataframe tbody tr th:only-of-type {\n",
       "        vertical-align: middle;\n",
       "    }\n",
       "\n",
       "    .dataframe tbody tr th {\n",
       "        vertical-align: top;\n",
       "    }\n",
       "\n",
       "    .dataframe thead th {\n",
       "        text-align: right;\n",
       "    }\n",
       "</style>\n",
       "<table border=\"1\" class=\"dataframe\">\n",
       "  <thead>\n",
       "    <tr style=\"text-align: right;\">\n",
       "      <th></th>\n",
       "      <th>NDVI</th>\n",
       "      <th>LST</th>\n",
       "      <th>TA</th>\n",
       "      <th>Class</th>\n",
       "    </tr>\n",
       "  </thead>\n",
       "  <tbody>\n",
       "    <tr>\n",
       "      <th>NDVI</th>\n",
       "      <td>1.000000</td>\n",
       "      <td>-0.172510</td>\n",
       "      <td>0.159178</td>\n",
       "      <td>0.034254</td>\n",
       "    </tr>\n",
       "    <tr>\n",
       "      <th>LST</th>\n",
       "      <td>-0.172510</td>\n",
       "      <td>1.000000</td>\n",
       "      <td>0.391007</td>\n",
       "      <td>0.563516</td>\n",
       "    </tr>\n",
       "    <tr>\n",
       "      <th>TA</th>\n",
       "      <td>0.159178</td>\n",
       "      <td>0.391007</td>\n",
       "      <td>1.000000</td>\n",
       "      <td>0.484658</td>\n",
       "    </tr>\n",
       "    <tr>\n",
       "      <th>Class</th>\n",
       "      <td>0.034254</td>\n",
       "      <td>0.563516</td>\n",
       "      <td>0.484658</td>\n",
       "      <td>1.000000</td>\n",
       "    </tr>\n",
       "  </tbody>\n",
       "</table>\n",
       "</div>"
      ],
      "text/plain": [
       "           NDVI       LST        TA     Class\n",
       "NDVI   1.000000 -0.172510  0.159178  0.034254\n",
       "LST   -0.172510  1.000000  0.391007  0.563516\n",
       "TA     0.159178  0.391007  1.000000  0.484658\n",
       "Class  0.034254  0.563516  0.484658  1.000000"
      ]
     },
     "execution_count": 13,
     "metadata": {},
     "output_type": "execute_result"
    }
   ],
   "source": [
    "\n",
    "data.corr() #return correlation between columns"
   ]
  },
  {
   "cell_type": "code",
   "execution_count": 14,
   "id": "amazing-communication",
   "metadata": {
    "scrolled": true
   },
   "outputs": [
    {
     "data": {
      "image/png": "[encoded data removed]",
      "text/plain": [
       "<Figure size 864x864 with 2 Axes>"
      ]
     },
     "metadata": {
      "needs_background": "light"
     },
     "output_type": "display_data"
    }
   ],
   "source": [
    "#Correlation matrix\n",
    "plt.figure(figsize=(12, 12))\n",
    "corr = data.corr()\n",
    "sns.set(font_scale=1.4)\n",
    "res=sns.heatmap(corr, annot=True)\n",
    "res.set_title(\"Correlation Matrix of All Columns\",fontsize=25,fontweight='bold')\n",
    "res.set_xticklabels(res.get_xmajorticklabels(), fontsize = 18,fontweight='bold')\n",
    "res.set_yticklabels(res.get_xmajorticklabels(), fontsize = 18,fontweight='bold')\n",
    "plt.savefig('C:/Users/kayle/Desktop/CorrMatrix',dpi=300) #, transparent=True)\n",
    "plt.show()"
   ]
  },
  {
   "cell_type": "code",
   "execution_count": 15,
   "id": "ultimate-footage",
   "metadata": {},
   "outputs": [
    {
     "data": {
      "text/plain": [
       "0    439\n",
       "1    292\n",
       "Name: Class, dtype: int64"
      ]
     },
     "execution_count": 15,
     "metadata": {},
     "output_type": "execute_result"
    }
   ],
   "source": [
    "data.Class.value_counts() #count target feature "
   ]
  },
  {
   "cell_type": "code",
   "execution_count": 16,
   "id": "mathematical-finland",
   "metadata": {},
   "outputs": [
    {
     "data": {
      "image/png": "[encoded data removed]",
      "text/plain": [
       "<Figure size 432x288 with 1 Axes>"
      ]
     },
     "metadata": {},
     "output_type": "display_data"
    }
   ],
   "source": [
    "data[\"Class\"].replace({1:\"Fire\", 0:\"No_fire\"}, inplace=True)\n",
    "#count plot of target feature\n",
    "classCount= sns.countplot(x='Class', data = data)\n",
    "classCount.axes.set_title(\"Class Count\",fontsize=25,fontweight='bold')\n",
    "classCount.set_xlabel(\"Class\",fontsize=18,fontweight='bold')\n",
    "classCount.set_ylabel(\"Count\",fontsize=18,fontweight='bold')\n",
    "plt.savefig('C:/Users/kayle/Desktop/ClassCount',dpi=300,bbox_inches='tight')\n",
    "plt.show()"
   ]
  },
  {
   "cell_type": "code",
   "execution_count": 17,
   "id": "apparent-battery",
   "metadata": {},
   "outputs": [],
   "source": [
    "data[\"Class\"].replace({\"Fire\": 1, \"No_fire\": 0}, inplace=True)"
   ]
  },
  {
   "cell_type": "code",
   "execution_count": 18,
   "id": "forbidden-operator",
   "metadata": {},
   "outputs": [
    {
     "data": {
      "image/png": "[encoded data removed]",
      "text/plain": [
       "<Figure size 936x504 with 1 Axes>"
      ]
     },
     "metadata": {},
     "output_type": "display_data"
    },
    {
     "data": {
      "image/png": "[encoded data removed]",
      "text/plain": [
       "<Figure size 936x504 with 1 Axes>"
      ]
     },
     "metadata": {},
     "output_type": "display_data"
    },
    {
     "data": {
      "image/png": "[encoded data removed]",
      "text/plain": [
       "<Figure size 936x504 with 1 Axes>"
      ]
     },
     "metadata": {},
     "output_type": "display_data"
    }
   ],
   "source": [
    "# Visualiztion of outliers data\n",
    "column_names = ['NDVI', 'LST', 'TA']\n",
    "#Boxplot\n",
    "train = data[column_names]\n",
    "plt.style.use('ggplot')\n",
    "for i in column_names:\n",
    "    plt.figure(figsize=(13, 7))\n",
    "    plt.title(str(i) + \" with \" + str('Class'))\n",
    "    sns.boxplot(x=data.Class, y=train[i])\n",
    "    plt.show()"
   ]
  },
  {
   "cell_type": "code",
   "execution_count": 19,
   "id": "fabulous-observer",
   "metadata": {},
   "outputs": [],
   "source": [
    "# finding outliers using zscore\n",
    "#z = np.abs(stats.zscore(data))\n",
    "#z  # print outliers"
   ]
  },
  {
   "cell_type": "code",
   "execution_count": 20,
   "id": "exclusive-ratio",
   "metadata": {},
   "outputs": [],
   "source": [
    "#data.shape"
   ]
  },
  {
   "cell_type": "code",
   "execution_count": 21,
   "id": "velvet-completion",
   "metadata": {},
   "outputs": [],
   "source": [
    "#np.count_nonzero(np.where( z > 3)) # count number of outliers"
   ]
  },
  {
   "cell_type": "code",
   "execution_count": 22,
   "id": "flexible-austin",
   "metadata": {},
   "outputs": [],
   "source": [
    "#data_outlier_z = data[(z <= 3).all(axis=1)] #dropped outliers\n",
    "#data_outlier_z.shape     #shape after removed outliers"
   ]
  },
  {
   "cell_type": "code",
   "execution_count": 23,
   "id": "controlling-lemon",
   "metadata": {},
   "outputs": [],
   "source": [
    "# Histograms\n",
    "#data_outlier_z.drop(columns=['Class']).hist(bins=20, figsize=(15,15),color='b'); "
   ]
  },
  {
   "cell_type": "code",
   "execution_count": 24,
   "id": "formed-swiss",
   "metadata": {},
   "outputs": [],
   "source": [
    "#scaler = StandardScaler() # Normalize data using z-score normalizer\n",
    "#data_normalize = scaler.fit_transform(data) #.drop(columns=['Class']))\n",
    "#data_normalize_df = pd.DataFrame(data_normalize,columns=['NDVI','LST','TA','Class'])"
   ]
  },
  {
   "cell_type": "code",
   "execution_count": 25,
   "id": "capital-tennessee",
   "metadata": {},
   "outputs": [],
   "source": [
    "#data_normalize_df.hist(bins=20, figsize=(15,15),color='b'); # After normalied data"
   ]
  },
  {
   "cell_type": "markdown",
   "id": "current-recorder",
   "metadata": {},
   "source": [
    "# Applying models and evalution"
   ]
  },
  {
   "cell_type": "code",
   "execution_count": 26,
   "id": "laughing-intelligence",
   "metadata": {},
   "outputs": [],
   "source": [
    "#X = data_outlier_z[['NDVI','LST','TA']]\n",
    "#Y = data_outlier_z['Class']\n",
    "#X = data_normalize_df.drop(columns=['Class'])\n",
    "#Y = data_normalize_df['Class']\n",
    "\n",
    "X= data.drop(columns=['Class']).values\n",
    "Y = data['Class'].values\n",
    "\n",
    "#X = preprocessing.scale(X)\n",
    "\n",
    "\n",
    "# 20% test 80% training data             \n",
    "X_train, X_test, y_train, y_test = train_test_split(X, Y, test_size=0.2,random_state = 0)\n"
   ]
  },
  {
   "cell_type": "markdown",
   "id": "boring-canvas",
   "metadata": {},
   "source": [
    "# Logistic Regression"
   ]
  },
  {
   "cell_type": "code",
   "execution_count": 27,
   "id": "generous-swiss",
   "metadata": {},
   "outputs": [
    {
     "name": "stdout",
     "output_type": "stream",
     "text": [
      "              precision    recall  f1-score   support\n",
      "\n",
      "           0       0.83      0.90      0.86        81\n",
      "           1       0.86      0.77      0.82        66\n",
      "\n",
      "    accuracy                           0.84       147\n",
      "   macro avg       0.85      0.84      0.84       147\n",
      "weighted avg       0.85      0.84      0.84       147\n",
      "\n"
     ]
    }
   ],
   "source": [
    "# Instantiate\n",
    "#logit_model = LogisticRegression()\n",
    "logit_model = LogisticRegression()#(C=100, class_weight= {1: 0.7, 0: 0.3}, penalty= 'l2', solver= 'liblinear')\n",
    "# Fit\n",
    "logit_model = logit_model.fit(X_train, y_train)\n",
    "logit_model.score(X_train,y_train)\n",
    "\n",
    "# Predictions on the test dataset\n",
    "LR_pred = pd.DataFrame(logit_model.predict(X_test))\n",
    "\n",
    "# Probabilities on the test dataset\n",
    "probs = pd.DataFrame(logit_model.predict_proba(X_test))\n",
    "\n",
    "print(metrics.classification_report(y_test, LR_pred))   #Logistic Regression \n"
   ]
  },
  {
   "cell_type": "code",
   "execution_count": 28,
   "id": "exceptional-financing",
   "metadata": {},
   "outputs": [
    {
     "data": {
      "text/plain": [
       "Text(0.5, 8.5, 'Predicted label')"
      ]
     },
     "execution_count": 28,
     "metadata": {},
     "output_type": "execute_result"
    },
    {
     "data": {
      "image/png": "[encoded data removed]",
      "text/plain": [
       "<Figure size 432x288 with 2 Axes>"
      ]
     },
     "metadata": {},
     "output_type": "display_data"
    }
   ],
   "source": [
    "LR_cm = confusion_matrix(y_test, LR_pred)\n",
    "sns.heatmap(LR_cm,annot=True,fmt='2.0f')\n",
    "plt.title('Logistic Regression')\n",
    "plt.ylabel('True label',fontweight='bold')\n",
    "plt.xlabel('Predicted label',fontweight='bold')"
   ]
  },
  {
   "cell_type": "code",
   "execution_count": 29,
   "id": "insured-portal",
   "metadata": {},
   "outputs": [
    {
     "name": "stdout",
     "output_type": "stream",
     "text": [
      "[0 1]\n"
     ]
    }
   ],
   "source": [
    "# Should we be excited?\n",
    "print(np.unique(LR_pred))"
   ]
  },
  {
   "cell_type": "code",
   "execution_count": 30,
   "id": "stainless-revelation",
   "metadata": {},
   "outputs": [
    {
     "data": {
      "text/plain": [
       "0    88\n",
       "1    59\n",
       "dtype: int64"
      ]
     },
     "execution_count": 30,
     "metadata": {},
     "output_type": "execute_result"
    }
   ],
   "source": [
    "LR_pred.value_counts()"
   ]
  },
  {
   "cell_type": "markdown",
   "id": "lesser-hanging",
   "metadata": {},
   "source": [
    "# Gaussian Naive Bayes"
   ]
  },
  {
   "cell_type": "code",
   "execution_count": 31,
   "id": "recognized-sunset",
   "metadata": {},
   "outputs": [
    {
     "name": "stdout",
     "output_type": "stream",
     "text": [
      "              precision    recall  f1-score   support\n",
      "\n",
      "           0       0.84      0.90      0.87        81\n",
      "           1       0.87      0.79      0.83        66\n",
      "\n",
      "    accuracy                           0.85       147\n",
      "   macro avg       0.85      0.84      0.85       147\n",
      "weighted avg       0.85      0.85      0.85       147\n",
      "\n"
     ]
    }
   ],
   "source": [
    "#NB = MultinomialNB()\n",
    "NB= GaussianNB()\n",
    "NB.fit(X_train, y_train)\n",
    "\n",
    "NB_pred = pd.DataFrame(NB.predict(X_test))\n",
    "\n",
    "print(metrics.classification_report(y_test, NB_pred))   #Gaussian Naive Bayes"
   ]
  },
  {
   "cell_type": "code",
   "execution_count": 32,
   "id": "looking-contrast",
   "metadata": {},
   "outputs": [
    {
     "name": "stdout",
     "output_type": "stream",
     "text": [
      "[0 1]\n"
     ]
    }
   ],
   "source": [
    "# Should we be excited?\n",
    "print(np.unique(NB_pred))"
   ]
  },
  {
   "cell_type": "code",
   "execution_count": 33,
   "id": "corresponding-presentation",
   "metadata": {},
   "outputs": [
    {
     "data": {
      "text/plain": [
       "0    87\n",
       "1    60\n",
       "dtype: int64"
      ]
     },
     "execution_count": 33,
     "metadata": {},
     "output_type": "execute_result"
    }
   ],
   "source": [
    "NB_pred.value_counts()"
   ]
  },
  {
   "cell_type": "code",
   "execution_count": 34,
   "id": "irish-citation",
   "metadata": {},
   "outputs": [
    {
     "data": {
      "text/plain": [
       "Text(0.5, 8.5, 'Predicted label')"
      ]
     },
     "execution_count": 34,
     "metadata": {},
     "output_type": "execute_result"
    },
    {
     "data": {
      "image/png": "[encoded data removed]",
      "text/plain": [
       "<Figure size 432x288 with 2 Axes>"
      ]
     },
     "metadata": {},
     "output_type": "display_data"
    }
   ],
   "source": [
    "NB_cm = confusion_matrix(y_test, NB_pred)\n",
    "sns.heatmap(NB_cm,annot=True,fmt='2.0f')\n",
    "plt.title('Gaussian Naive Bayes')\n",
    "plt.ylabel('True label',fontweight='bold')\n",
    "plt.xlabel('Predicted label',fontweight='bold')"
   ]
  },
  {
   "cell_type": "code",
   "execution_count": 35,
   "id": "agreed-blend",
   "metadata": {},
   "outputs": [
    {
     "name": "stdout",
     "output_type": "stream",
     "text": [
      "              precision    recall  f1-score   support\n",
      "\n",
      "           0       0.84      0.95      0.89        81\n",
      "           1       0.93      0.77      0.84        66\n",
      "\n",
      "    accuracy                           0.87       147\n",
      "   macro avg       0.88      0.86      0.87       147\n",
      "weighted avg       0.88      0.87      0.87       147\n",
      "\n"
     ]
    }
   ],
   "source": [
    "KNN = KNeighborsClassifier(n_neighbors = 8, metric = 'minkowski', p = 3)  \n",
    "KNN.fit(X_train, y_train)\n",
    "\n",
    "KNN_pred = pd.DataFrame(KNN.predict(X_test))\n",
    "\n",
    "print(metrics.classification_report(y_test, KNN_pred))   #K-NearestNeighbors"
   ]
  },
  {
   "cell_type": "code",
   "execution_count": 36,
   "id": "naked-double",
   "metadata": {},
   "outputs": [
    {
     "data": {
      "text/plain": [
       "0    92\n",
       "1    55\n",
       "dtype: int64"
      ]
     },
     "execution_count": 36,
     "metadata": {},
     "output_type": "execute_result"
    }
   ],
   "source": [
    "KNN_pred.value_counts()"
   ]
  },
  {
   "cell_type": "code",
   "execution_count": 37,
   "id": "juvenile-harvest",
   "metadata": {},
   "outputs": [
    {
     "data": {
      "image/png": "[encoded data removed]",
      "text/plain": [
       "<Figure size 432x288 with 2 Axes>"
      ]
     },
     "metadata": {},
     "output_type": "display_data"
    }
   ],
   "source": [
    "KNN_cm = confusion_matrix(y_test, KNN_pred)\n",
    "group_names = ['TN','FP','FN','TP']\n",
    "group_counts = [\"{0:0.0f}\".format(value) for value in\n",
    "                KNN_cm.flatten()]\n",
    "labels = [f\"{v1}\\n{v2}\" for v1, v2 in\n",
    "          zip(group_names,group_counts)]\n",
    "labels = np.asarray(labels).reshape(2,2)\n",
    "sns.heatmap(KNN_cm, annot=labels, fmt='')\n",
    "plt.savefig('C:/Users/kayle/Desktop/KNN_confmatrix',dpi=300,bbox_inches='tight', transparent=True)"
   ]
  },
  {
   "cell_type": "code",
   "execution_count": 38,
   "id": "worst-negative",
   "metadata": {},
   "outputs": [
    {
     "data": {
      "text/plain": [
       "Text(0.5, 8.5, 'Predicted label')"
      ]
     },
     "execution_count": 38,
     "metadata": {},
     "output_type": "execute_result"
    },
    {
     "data": {
      "image/png": "[encoded data removed]",
      "text/plain": [
       "<Figure size 432x288 with 2 Axes>"
      ]
     },
     "metadata": {},
     "output_type": "display_data"
    }
   ],
   "source": [
    "KNN_cm = confusion_matrix(y_test, KNN_pred)\n",
    "sns.heatmap(KNN_cm,annot=True,fmt='2.0f')\n",
    "plt.title('K-Nearest Neighbors')\n",
    "plt.ylabel('True label',fontweight='bold')\n",
    "plt.xlabel('Predicted label',fontweight='bold')"
   ]
  },
  {
   "cell_type": "code",
   "execution_count": 39,
   "id": "incorporated-invalid",
   "metadata": {},
   "outputs": [
    {
     "name": "stdout",
     "output_type": "stream",
     "text": [
      "[[0.241233, 280.170902, 5.0]] [0]\n"
     ]
    }
   ],
   "source": [
    "# define input\n",
    "new_input = [[0.241233, 280.170902, 5.0]]        #Expected class No_fire\n",
    "# get prediction for new input\n",
    "new_output = KNN.predict(new_input)\n",
    "# summarize input and output\n",
    "print(new_input, new_output)"
   ]
  },
  {
   "cell_type": "code",
   "execution_count": 40,
   "id": "painted-chinese",
   "metadata": {},
   "outputs": [
    {
     "data": {
      "text/html": [
       "<div>\n",
       "<style scoped>\n",
       "    .dataframe tbody tr th:only-of-type {\n",
       "        vertical-align: middle;\n",
       "    }\n",
       "\n",
       "    .dataframe tbody tr th {\n",
       "        vertical-align: top;\n",
       "    }\n",
       "\n",
       "    .dataframe thead th {\n",
       "        text-align: right;\n",
       "    }\n",
       "</style>\n",
       "<table border=\"1\" class=\"dataframe\">\n",
       "  <thead>\n",
       "    <tr style=\"text-align: right;\">\n",
       "      <th></th>\n",
       "      <th>NDVI</th>\n",
       "      <th>LST</th>\n",
       "      <th>TA</th>\n",
       "      <th>Class</th>\n",
       "    </tr>\n",
       "  </thead>\n",
       "  <tbody>\n",
       "    <tr>\n",
       "      <th>166</th>\n",
       "      <td>0.291647</td>\n",
       "      <td>310.050541</td>\n",
       "      <td>5.0</td>\n",
       "      <td>1</td>\n",
       "    </tr>\n",
       "    <tr>\n",
       "      <th>167</th>\n",
       "      <td>0.290621</td>\n",
       "      <td>306.882328</td>\n",
       "      <td>5.0</td>\n",
       "      <td>1</td>\n",
       "    </tr>\n",
       "    <tr>\n",
       "      <th>168</th>\n",
       "      <td>0.289594</td>\n",
       "      <td>312.864003</td>\n",
       "      <td>5.0</td>\n",
       "      <td>1</td>\n",
       "    </tr>\n",
       "    <tr>\n",
       "      <th>169</th>\n",
       "      <td>0.288568</td>\n",
       "      <td>312.966706</td>\n",
       "      <td>5.0</td>\n",
       "      <td>1</td>\n",
       "    </tr>\n",
       "    <tr>\n",
       "      <th>170</th>\n",
       "      <td>0.287541</td>\n",
       "      <td>308.390145</td>\n",
       "      <td>5.0</td>\n",
       "      <td>1</td>\n",
       "    </tr>\n",
       "    <tr>\n",
       "      <th>...</th>\n",
       "      <td>...</td>\n",
       "      <td>...</td>\n",
       "      <td>...</td>\n",
       "      <td>...</td>\n",
       "    </tr>\n",
       "    <tr>\n",
       "      <th>709</th>\n",
       "      <td>0.363744</td>\n",
       "      <td>286.348347</td>\n",
       "      <td>5.0</td>\n",
       "      <td>1</td>\n",
       "    </tr>\n",
       "    <tr>\n",
       "      <th>710</th>\n",
       "      <td>0.359783</td>\n",
       "      <td>285.296674</td>\n",
       "      <td>5.0</td>\n",
       "      <td>1</td>\n",
       "    </tr>\n",
       "    <tr>\n",
       "      <th>711</th>\n",
       "      <td>0.355822</td>\n",
       "      <td>284.720852</td>\n",
       "      <td>5.0</td>\n",
       "      <td>1</td>\n",
       "    </tr>\n",
       "    <tr>\n",
       "      <th>712</th>\n",
       "      <td>0.351861</td>\n",
       "      <td>287.851355</td>\n",
       "      <td>5.0</td>\n",
       "      <td>1</td>\n",
       "    </tr>\n",
       "    <tr>\n",
       "      <th>713</th>\n",
       "      <td>0.347900</td>\n",
       "      <td>285.337503</td>\n",
       "      <td>5.0</td>\n",
       "      <td>1</td>\n",
       "    </tr>\n",
       "  </tbody>\n",
       "</table>\n",
       "<p>292 rows × 4 columns</p>\n",
       "</div>"
      ],
      "text/plain": [
       "         NDVI         LST   TA  Class\n",
       "166  0.291647  310.050541  5.0      1\n",
       "167  0.290621  306.882328  5.0      1\n",
       "168  0.289594  312.864003  5.0      1\n",
       "169  0.288568  312.966706  5.0      1\n",
       "170  0.287541  308.390145  5.0      1\n",
       "..        ...         ...  ...    ...\n",
       "709  0.363744  286.348347  5.0      1\n",
       "710  0.359783  285.296674  5.0      1\n",
       "711  0.355822  284.720852  5.0      1\n",
       "712  0.351861  287.851355  5.0      1\n",
       "713  0.347900  285.337503  5.0      1\n",
       "\n",
       "[292 rows x 4 columns]"
      ]
     },
     "execution_count": 40,
     "metadata": {},
     "output_type": "execute_result"
    }
   ],
   "source": [
    "data.loc[data['Class'] == 1]"
   ]
  },
  {
   "cell_type": "code",
   "execution_count": 41,
   "id": "boxed-valentine",
   "metadata": {},
   "outputs": [
    {
     "name": "stdout",
     "output_type": "stream",
     "text": [
      "[[0.291647, 310.050541, 5.0]] [0]\n"
     ]
    }
   ],
   "source": [
    "# define input\n",
    "new_input2 = [[0.291647, 310.050541, 5.0]]       #Expected class Fire\n",
    "# get prediction for new input\n",
    "new_output2 = KNN.predict(new_input2)\n",
    "# summarize input and output\n",
    "print(new_input2, new_output2)"
   ]
  },
  {
   "cell_type": "markdown",
   "id": "cardiac-recommendation",
   "metadata": {},
   "source": [
    "# Random Forest"
   ]
  },
  {
   "cell_type": "code",
   "execution_count": 44,
   "id": "saved-packet",
   "metadata": {},
   "outputs": [
    {
     "name": "stdout",
     "output_type": "stream",
     "text": [
      "              precision    recall  f1-score   support\n",
      "\n",
      "           0       0.85      0.88      0.86        81\n",
      "           1       0.84      0.80      0.82        66\n",
      "\n",
      "    accuracy                           0.84       147\n",
      "   macro avg       0.84      0.84      0.84       147\n",
      "weighted avg       0.84      0.84      0.84       147\n",
      "\n"
     ]
    }
   ],
   "source": [
    "#Create a RandomForest Classifier\n",
    "RF = RandomForestClassifier(n_estimators= 300)                      \n",
    "\n",
    "#Train the model using the training sets y_pred=clf.predict(X_test)\n",
    "RF.fit(X_train,y_train)\n",
    "\n",
    "RF_pred = RF.predict(X_test) \n",
    "\n",
    "print(metrics.classification_report(y_test, RF_pred))   #Random Forest"
   ]
  },
  {
   "cell_type": "code",
   "execution_count": 45,
   "id": "sporting-creek",
   "metadata": {},
   "outputs": [
    {
     "data": {
      "text/plain": [
       "Text(0.5, 8.5, 'Predicted label')"
      ]
     },
     "execution_count": 45,
     "metadata": {},
     "output_type": "execute_result"
    },
    {
     "data": {
      "image/png": "[encoded data removed]",
      "text/plain": [
       "<Figure size 432x288 with 2 Axes>"
      ]
     },
     "metadata": {},
     "output_type": "display_data"
    }
   ],
   "source": [
    "RF_cm = confusion_matrix(y_test, RF_pred)\n",
    "sns.heatmap(RF_cm,annot=True,fmt='2.0f')\n",
    "plt.title('RandomForest')\n",
    "plt.ylabel('True label',fontweight='bold')\n",
    "plt.xlabel('Predicted label',fontweight='bold')"
   ]
  },
  {
   "cell_type": "code",
   "execution_count": 46,
   "id": "aware-antique",
   "metadata": {},
   "outputs": [
    {
     "name": "stdout",
     "output_type": "stream",
     "text": [
      "RF-Accuracy: 81.505%\n"
     ]
    }
   ],
   "source": [
    "kfold = KFold(n_splits=10,random_state=5,shuffle=True)\n",
    "RF_kFold = cross_val_score(estimator = RF, X = X_train,y = y_train, cv = kfold)\n",
    "print(\"RF-Accuracy: %.3f%%\" % (RF_kFold.mean()*100.0))"
   ]
  },
  {
   "cell_type": "code",
   "execution_count": null,
   "id": "typical-field",
   "metadata": {},
   "outputs": [],
   "source": []
  }
 ],
 "metadata": {
  "kernelspec": {
   "display_name": "Python 3",
   "language": "python",
   "name": "python3"
  },
  "language_info": {
   "codemirror_mode": {
    "name": "ipython",
    "version": 3
   },
   "file_extension": ".py",
   "mimetype": "text/x-python",
   "name": "python",
   "nbconvert_exporter": "python",
   "pygments_lexer": "ipython3",
   "version": "3.7.9"
  }
 },
 "nbformat": 4,
 "nbformat_minor": 5
}
