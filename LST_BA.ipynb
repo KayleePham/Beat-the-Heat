{
 "cells": [
  {
   "cell_type": "code",
   "execution_count": 1,
   "metadata": {},
   "outputs": [],
   "source": [
    "# Import libraries\n",
    "import os\n",
    "import glob\n",
    "from osgeo import gdal\n",
    "import numpy as np\n",
    "import matplotlib.pyplot as plt\n",
    "import scipy.ndimage\n",
    "import pandas as pd\n",
    "import datetime as dt"
   ]
  },
  {
   "cell_type": "code",
   "execution_count": 2,
   "metadata": {},
   "outputs": [],
   "source": [
    "# Set input directory, and change working directory\n",
    "inDir = 'D:\\Files\\School\\COMP_490_Senior_Design\\Beat-the-Heat\\Datasets\\LST_BA'\n",
    "os.chdir(inDir)                                                               # Change to working directory\n",
    "outDir = os.path.normpath(os.path.split(inDir)[0] + os.sep + 'output') + '\\\\' # Create and set output directory\n",
    "if not os.path.exists(outDir): os.makedirs(outDir)"
   ]
  },
  {
   "cell_type": "code",
   "execution_count": 3,
   "metadata": {},
   "outputs": [],
   "source": [
    "LSTFiles = glob.glob('MOD11A1.006_LST_Day_1km**.tif')  # Search for and create a list of LST files\n",
    "LSTqualityFiles =glob.glob('MOD11A1.006_QC_Day**.tif') # Search the directory for the associated quality .tifs\n",
    "LSTlut = glob.glob('MOD11A1-006-QC-Day-lookup.csv')    # Search for look up .tifs files\n",
    "LST_QA_lut = pd.read_csv(LSTlut[0]) # Read in the lut\n",
    "\n",
    "# Include good quality based on MODLAND\n",
    "LST_QA_lut = LST_QA_lut[LST_QA_lut['MODLAND'].isin([\n",
    "    'LST produced, good quality, not necessary to examine more detailed QA', \n",
    "    'LST produced, other quality, recommend examination of more detailed QA'])]\n",
    "\n",
    "# Exclude lower quality VI usefulness\n",
    "VIU =[\"LST not produced due to cloud effects, LST not produced primarily due to reasons other than cloud\"]\n",
    "LST_QA_lut = LST_QA_lut[~LST_QA_lut['MODLAND'].isin(VIU)]\n",
    "\n",
    "LSTgoodQuality = list(LST_QA_lut['Value'])"
   ]
  },
  {
   "cell_type": "code",
   "execution_count": 4,
   "metadata": {},
   "outputs": [
    {
     "data": {
      "text/plain": [
       "731"
      ]
     },
     "execution_count": 4,
     "metadata": {},
     "output_type": "execute_result"
    }
   ],
   "source": [
    "len(LSTFiles)"
   ]
  },
  {
   "cell_type": "code",
   "execution_count": 5,
   "metadata": {},
   "outputs": [],
   "source": [
    "BAFiles = glob.glob('MCD64A1.006_Burn_Date_**.tif') # Search for and create a list of BA files\n",
    "BAqualityFiles =glob.glob('MCD64A1.006_QA_**.tif') # Search the directory for the associated quality .tif\n",
    "BAlut = glob.glob('MCD64A1-006-QA-lookup.csv') # Search for look up table\n",
    "BA_QA_lut = pd.read_csv(BAlut[0]) # Read in the lut\n",
    "# Include good quality based on MODLAND\n",
    "BA_QA_lut = BA_QA_lut[BA_QA_lut['Valid data'].isin([True])]\n",
    "# Special circumstances unburned\n",
    "SP =[\"Too few training observations or insufficient spectral separability between burned and unburned classes\"]\n",
    "BA_QA_lut = BA_QA_lut[~BA_QA_lut['Special circumstances unburned'].isin(SP)]\n",
    "BA_QA_lut\n",
    "BAgoodQuality = list(BA_QA_lut['Value']) # Retrieve list of possible QA values from the quality dataframe\n"
   ]
  },
  {
   "cell_type": "code",
   "execution_count": 6,
   "metadata": {},
   "outputs": [
    {
     "data": {
      "text/plain": [
       "24"
      ]
     },
     "execution_count": 6,
     "metadata": {},
     "output_type": "execute_result"
    }
   ],
   "source": [
    "len(BAFiles)"
   ]
  },
  {
   "cell_type": "code",
   "execution_count": 7,
   "metadata": {},
   "outputs": [],
   "source": [
    "def getBAFile(BAF, month, year):\n",
    "    for x in BAF:\n",
    "        # File name metadata:\n",
    "        BAproductId = x.split('_')[0] # First: product name\n",
    "        BAlayerId = x.split(BAproductId + '_')[1].split('_doy')[0] # Second: layer name\n",
    "        BAyeardoy = x.split(BAlayerId+'_doy')[1].split('_aid')[0] # Third: date\n",
    "        file_year = dt.datetime.strptime(BAyeardoy, '%Y%j').year\n",
    "        file_month = dt.datetime.strptime(BAyeardoy, '%Y%j').month\n",
    "        \n",
    "        if file_year==year and file_month==month:\n",
    "            return(x)"
   ]
  },
  {
   "cell_type": "code",
   "execution_count": 8,
   "metadata": {},
   "outputs": [],
   "source": [
    "LST_result = []\n",
    "#Process through 731 FM files\n",
    "for i in range(0, len(LSTFiles)):\n",
    "    LST = gdal.Open(LSTFiles[i])                               # Read file in, starting with the first LST .tif file\n",
    "    LSTBand = LST.GetRasterBand(1)                             # Read the band (layer)\n",
    "    LSTData = LSTBand.ReadAsArray().astype('float')            # Import band as an array with type float\n",
    "    LSTquality = gdal.Open(LSTqualityFiles[i])                 # Open the first quality file\n",
    "    LSTqualityData = LSTquality.GetRasterBand(1).ReadAsArray() # Read in as an array\n",
    "    LSTquality = None\n",
    "    \n",
    "    # File name metadata:\n",
    "    LSTproductId = LSTFiles[i].split('_')[0] # First: product name\n",
    "    LSTlayerId = LSTFiles[i].split(LSTproductId + '_')[1].split('_doy')[0]     # Second: layer name\n",
    "    LSTyeardoy = LSTFiles[i].split(LSTlayerId+'_doy')[1].split('_aid')[0]      # Third: date\n",
    "    LST_aid = LSTFiles[i].split(LSTyeardoy+'_')[1].split('.tif')[0]            # Fourth: unique ROI identif\n",
    "    LST_date = dt.datetime.strptime(LSTyeardoy, '%Y%j').strftime('%m/%d/%Y')   # Convert YYYYDDD to MM/DD/\n",
    "    LST_year = dt.datetime.strptime(LSTyeardoy, '%Y%j').year\n",
    "    LST_month = dt.datetime.strptime(LSTyeardoy, '%Y%j').month\n",
    "    \n",
    "    BAFileName = ''\n",
    "    BAFileName = getBAFile(BAFiles, LST_month, LST_year)\n",
    "    BAQualityFileName = getBAFile(BAqualityFiles, LST_month, LST_year)\n",
    "\n",
    "    if not BAFileName in (None, ''):\n",
    "        BA = gdal.Open(BAFileName)                               # Read file in, starting with MCD64A1 version 6\n",
    "        BABand = BA.GetRasterBand(1)                             # Read the band (layer)\n",
    "        BAData = BABand.ReadAsArray().astype('float')            # Import band as an array with type flo\n",
    "        BAquality = gdal.Open(BAQualityFileName)                 # Open the first quality file\n",
    "        BAqualityData = BAquality.GetRasterBand(1).ReadAsArray() # Read in as an array\n",
    "        BAquality = None\n",
    "        \n",
    "        # File Metadata\n",
    "        BA_meta = BA.GetMetadata()                               # Store metadata in dictionary\n",
    "        LST_meta = LST.GetMetadata()                             # Store metadata in dictionary\n",
    "        \n",
    "        # Band metadata\n",
    "        BAFill = BABand.GetNoDataValue()                        # Returns fill value\n",
    "        BAStats = BABand.GetStatistics(True, True)              # returns min, max, mean, and standard deviation\n",
    "        BA = None                                               # Close the GeoTIFF file\n",
    "        \n",
    "        # Band metadata\n",
    "        LSTFill = LSTBand.GetNoDataValue()                      # Returns fill value\n",
    "        LSTStats = LSTBand.GetStatistics(True, True)            # returns min, max, mean, and standard deviation\n",
    "        LST = None                                              # Close the GeoTIFF file\n",
    "        \n",
    "        BAscaleFactor = float(BA_meta['scale_factor'])          # Search the metadata dictionary for the scale fac\n",
    "        BAunits = BA_meta['units']                              # Search the metadata dictionary for the units\n",
    "        BAData[BAData == BAFill] = np.nan                       # Set the fill value equal to NaN for the array\n",
    "        BAScaled = BAData * BAscaleFactor                       # Apply the scale factor using simple multiplicati\n",
    "        \n",
    "        LSTscaleFactor = float(LST_meta['scale_factor'])        # Search the metadata dictionary for the scale factors\n",
    "        LSTunits = LST_meta['units']                            # Search the metadata dictionary for the units\n",
    "        LSTData[LSTData == LSTFill] = np.nan                    # Set the fill value equal to NaN for the array\n",
    "        LSTScaled = LSTData * LSTscaleFactor                    # Apply the scale factor using simple multiplication\n",
    "        \n",
    "        # Mask both the LST and BA datasets with good quality values\n",
    "        BA_masked = np.ma.MaskedArray(BAScaled, np.in1d(BAqualityData, BAgoodQuality, invert = True)) \n",
    "        LST_masked = np.ma.MaskedArray(LSTScaled, np.in1d(LSTqualityData, LSTgoodQuality, invert = True))\n",
    "        BAVal = range(0,377)\n",
    "        \n",
    "        # Resampling the BA tif file to match the LST\n",
    "        BA_resampled = scipy.ndimage.zoom(BA_masked,0.5, order=0)            \n",
    "        new_col = np.sum(BA_resampled,1).reshape((BA_resampled.shape[0],1))  # Creating a new column to match LST\n",
    "        BA_resampled = np.append(BA_resampled,new_col,1)                     # Adding new column to BA\n",
    "        \n",
    "        # Masking the LST with the BA and extracting LST values\n",
    "        LST_BA = np.ma.MaskedArray(LST_masked, np.in1d(BA_resampled, BAVal, invert = True)) # Mask array, incl\n",
    "        LST_mean = np.mean(LST_BA)                                   # Obtains the mean of the file\n",
    "        LST_result.append([LST_date,LST_mean])                       # Add mean to the list\n",
    "LST_df = pd.DataFrame(LST_result, columns=[\"Date\",\"LST\"])"
   ]
  },
  {
   "cell_type": "code",
   "execution_count": 9,
   "metadata": {},
   "outputs": [
    {
     "data": {
      "text/html": [
       "<div>\n",
       "<style scoped>\n",
       "    .dataframe tbody tr th:only-of-type {\n",
       "        vertical-align: middle;\n",
       "    }\n",
       "\n",
       "    .dataframe tbody tr th {\n",
       "        vertical-align: top;\n",
       "    }\n",
       "\n",
       "    .dataframe thead th {\n",
       "        text-align: right;\n",
       "    }\n",
       "</style>\n",
       "<table border=\"1\" class=\"dataframe\">\n",
       "  <thead>\n",
       "    <tr style=\"text-align: right;\">\n",
       "      <th></th>\n",
       "      <th>Date</th>\n",
       "      <th>LST</th>\n",
       "    </tr>\n",
       "  </thead>\n",
       "  <tbody>\n",
       "    <tr>\n",
       "      <th>0</th>\n",
       "      <td>01/01/2019</td>\n",
       "      <td>280.170902</td>\n",
       "    </tr>\n",
       "    <tr>\n",
       "      <th>1</th>\n",
       "      <td>01/02/2019</td>\n",
       "      <td>281.678667</td>\n",
       "    </tr>\n",
       "    <tr>\n",
       "      <th>2</th>\n",
       "      <td>01/03/2019</td>\n",
       "      <td>285.865983</td>\n",
       "    </tr>\n",
       "    <tr>\n",
       "      <th>3</th>\n",
       "      <td>01/04/2019</td>\n",
       "      <td>283.249994</td>\n",
       "    </tr>\n",
       "    <tr>\n",
       "      <th>4</th>\n",
       "      <td>01/05/2019</td>\n",
       "      <td>275.546052</td>\n",
       "    </tr>\n",
       "    <tr>\n",
       "      <th>...</th>\n",
       "      <td>...</td>\n",
       "      <td>...</td>\n",
       "    </tr>\n",
       "    <tr>\n",
       "      <th>726</th>\n",
       "      <td>12/27/2020</td>\n",
       "      <td>285.095924</td>\n",
       "    </tr>\n",
       "    <tr>\n",
       "      <th>727</th>\n",
       "      <td>12/28/2020</td>\n",
       "      <td>279.868729</td>\n",
       "    </tr>\n",
       "    <tr>\n",
       "      <th>728</th>\n",
       "      <td>12/29/2020</td>\n",
       "      <td>281.404568</td>\n",
       "    </tr>\n",
       "    <tr>\n",
       "      <th>729</th>\n",
       "      <td>12/30/2020</td>\n",
       "      <td>284.108339</td>\n",
       "    </tr>\n",
       "    <tr>\n",
       "      <th>730</th>\n",
       "      <td>12/31/2020</td>\n",
       "      <td>279.166502</td>\n",
       "    </tr>\n",
       "  </tbody>\n",
       "</table>\n",
       "<p>731 rows × 2 columns</p>\n",
       "</div>"
      ],
      "text/plain": [
       "           Date         LST\n",
       "0    01/01/2019  280.170902\n",
       "1    01/02/2019  281.678667\n",
       "2    01/03/2019  285.865983\n",
       "3    01/04/2019  283.249994\n",
       "4    01/05/2019  275.546052\n",
       "..          ...         ...\n",
       "726  12/27/2020  285.095924\n",
       "727  12/28/2020  279.868729\n",
       "728  12/29/2020  281.404568\n",
       "729  12/30/2020  284.108339\n",
       "730  12/31/2020  279.166502\n",
       "\n",
       "[731 rows x 2 columns]"
      ]
     },
     "execution_count": 9,
     "metadata": {},
     "output_type": "execute_result"
    }
   ],
   "source": [
    "LST_df"
   ]
  },
  {
   "cell_type": "code",
   "execution_count": 12,
   "metadata": {},
   "outputs": [],
   "source": [
    "LST_df.to_csv('LST_BA.csv')"
   ]
  },
  {
   "cell_type": "code",
   "execution_count": null,
   "metadata": {},
   "outputs": [],
   "source": []
  }
 ],
 "metadata": {
  "kernelspec": {
   "display_name": "Python 3",
   "language": "python",
   "name": "python3"
  },
  "language_info": {
   "codemirror_mode": {
    "name": "ipython",
    "version": 3
   },
   "file_extension": ".py",
   "mimetype": "text/x-python",
   "name": "python",
   "nbconvert_exporter": "python",
   "pygments_lexer": "ipython3",
   "version": "3.8.3"
  },
  "toc": {
   "base_numbering": 1,
   "nav_menu": {},
   "number_sections": true,
   "sideBar": true,
   "skip_h1_title": false,
   "title_cell": "Table of Contents",
   "title_sidebar": "Contents",
   "toc_cell": false,
   "toc_position": {},
   "toc_section_display": true,
   "toc_window_display": false
  }
 },
 "nbformat": 4,
 "nbformat_minor": 4
}
