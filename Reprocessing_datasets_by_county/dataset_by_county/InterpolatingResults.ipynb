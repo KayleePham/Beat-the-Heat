{
 "cells": [
  {
   "cell_type": "code",
   "execution_count": 1,
   "metadata": {},
   "outputs": [],
   "source": [
    "#important packages we need for loading the data set\n",
    "import pandas as pd #to store tabular data\n",
    "import numpy as np # to do some math\n",
    "pd.options.mode.chained_assignment = None"
   ]
  },
  {
   "cell_type": "code",
   "execution_count": 2,
   "metadata": {},
   "outputs": [],
   "source": [
    "data = pd.read_csv(r'C:\\Users\\SASUKE\\Documents\\GitHub\\Beat-the-Heat--Machine-Learning\\Reprocessing_datasets_by_county\\dataset_by_county\\burn_area_files\\output\\NDVI2019_2020.csv')"
   ]
  },
  {
   "cell_type": "code",
   "execution_count": 3,
   "metadata": {},
   "outputs": [],
   "source": [
    "FIPS = pd.read_csv(r'C:\\Users\\SASUKE\\Documents\\GitHub\\Beat-the-Heat--Machine-Learning\\Reprocessing_datasets_by_county\\dataset_by_county\\burn_area_files\\output\\county_fips.csv')"
   ]
  },
  {
   "cell_type": "code",
   "execution_count": 4,
   "metadata": {},
   "outputs": [],
   "source": [
    "data = data.sort_values([\"County_FIP\", \"Date\"], ascending=(True, True))"
   ]
  },
  {
   "cell_type": "code",
   "execution_count": 5,
   "metadata": {},
   "outputs": [],
   "source": [
    "appended_data = pd.DataFrame()\n",
    "for i in range(0, len(FIPS)):\n",
    "    county = data[data.County_FIP == FIPS['FIP'][i]]\n",
    "    county['Date'] = pd.to_datetime(county['Date'], format='%m/%d/%Y')\n",
    "    county = county.sort_values([\"Date\"])\n",
    "    county = county.set_index('Date')\n",
    "    county = county.resample('D').mean()\n",
    "    county[\"NDVI\"] = county[\"NDVI\"].interpolate(method='linear')\n",
    "    county.fillna(method='ffill', inplace=True)\n",
    "    appended_data = appended_data.append(county,ignore_index=False)"
   ]
  },
  {
   "cell_type": "code",
   "execution_count": 7,
   "metadata": {},
   "outputs": [],
   "source": [
    "#print(appended_data)\n",
    "appended_data.to_csv(r'C:\\Users\\SASUKE\\Documents\\GitHub\\Beat-the-Heat--Machine-Learning\\Reprocessing_datasets_by_county\\dataset_by_county\\burn_area_files\\output\\NDVI_Interpolated_2019_2020.csv', index=True)"
   ]
  },
  {
   "cell_type": "code",
   "execution_count": null,
   "metadata": {},
   "outputs": [],
   "source": []
  }
 ],
 "metadata": {
  "kernelspec": {
   "display_name": "Python 3",
   "language": "python",
   "name": "python3"
  },
  "language_info": {
   "codemirror_mode": {
    "name": "ipython",
    "version": 3
   },
   "file_extension": ".py",
   "mimetype": "text/x-python",
   "name": "python",
   "nbconvert_exporter": "python",
   "pygments_lexer": "ipython3",
   "version": "3.8.3"
  }
 },
 "nbformat": 4,
 "nbformat_minor": 4
}
