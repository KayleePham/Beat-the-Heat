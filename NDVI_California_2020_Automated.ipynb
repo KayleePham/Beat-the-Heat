{
 "cells": [
  {
   "cell_type": "code",
   "execution_count": 1,
   "metadata": {},
   "outputs": [],
   "source": [
    "# Import libraries\n",
    "import os\n",
    "import glob\n",
    "from osgeo import gdal\n",
    "import numpy as np\n",
    "import matplotlib.pyplot as plt\n",
    "import scipy.ndimage\n",
    "import pandas as pd\n",
    "import datetime as dt\n",
    "import time"
   ]
  },
  {
   "cell_type": "code",
   "execution_count": 2,
   "metadata": {},
   "outputs": [],
   "source": [
    "# Set input directory, and change working directory\n",
    "inDir = 'D:/tyler/Documents/SCHOOL/SPRING_2021/project-code/Test Sets/MOD13Q1.006__250m_16_days_NDVI'  # IMPORTANT: Update to reflect directory on your OS\n",
    "os.chdir(inDir)                                                               # Change to working directory\n",
    "outDir = os.path.normpath(os.path.split(inDir)[0] + os.sep + 'output') + '\\\\' # Create and set output directory\n",
    "if not os.path.exists(outDir): os.makedirs(outDir)"
   ]
  },
  {
   "cell_type": "code",
   "execution_count": 3,
   "metadata": {},
   "outputs": [],
   "source": [
    "EVIFiles = glob.glob('MOD13Q1.006__250m_16_days_NDVI_**.tif') # Search for and create a list of EVI files"
   ]
  },
  {
   "cell_type": "code",
   "execution_count": 4,
   "metadata": {},
   "outputs": [
    {
     "name": "stdout",
     "output_type": "stream",
     "text": [
      "47\n"
     ]
    }
   ],
   "source": [
    "print(len(EVIFiles))"
   ]
  },
  {
   "cell_type": "code",
   "execution_count": 6,
   "metadata": {},
   "outputs": [
    {
     "name": "stdout",
     "output_type": "stream",
     "text": [
      "Time in seconds: 1256.9209253787994\n"
     ]
    }
   ],
   "source": [
    "start_time = time.time() # Start timing\n",
    "\n",
    "for i in range(len(EVIFiles)):\n",
    "    EVI = gdal.Open(EVIFiles[i])                    # Read file in, starting with MOD13Q1 version 6\n",
    "    EVIBand = EVI.GetRasterBand(1)                  # Read the band (layer)\n",
    "    EVIData = EVIBand.ReadAsArray().astype('float') # Import band as an array with type float\n",
    "    \n",
    "    # File name metadata:\n",
    "    productId = EVIFiles[i].split('_')[0]                                          # First: product name\n",
    "    layerId = EVIFiles[i].split(productId + '_')[1].split('_doy')[0]               # Second: layer name\n",
    "    yeardoy = EVIFiles[i].split(layerId+'_doy')[1].split('_aid')[0]                # Third: date\n",
    "    aid = EVIFiles[i].split(yeardoy+'_')[1].split('.tif')[0]                       # Fourth: unique ROI identifier (aid)\n",
    "    date = dt.datetime.strptime(yeardoy, '%Y%j').strftime('%m/%d/%Y')              # Convert YYYYDDD to MM/DD/YYYY\n",
    "    \n",
    "    # File Metadata\n",
    "    EVI_meta = EVI.GetMetadata()                   # Store metadata in dictionary\n",
    "    rows, cols = EVI.RasterYSize, EVI.RasterXSize  # Number of rows,columns\n",
    "\n",
    "    # Projection information\n",
    "    geotransform = EVI.GetGeoTransform()\n",
    "    proj= EVI.GetProjection() \n",
    "\n",
    "    # Band metadata\n",
    "    EVIFill = EVIBand.GetNoDataValue()            # Returns fill value\n",
    "    EVIStats = EVIBand.GetStatistics(True, True)  # returns min, max, mean, and standard deviation\n",
    "    EVI = None                                    # Close the GeoTIFF file\n",
    "    \n",
    "    scaleFactor = float(EVI_meta['scale_factor'])  # Search the metadata dictionary for the scale factor \n",
    "    units = EVI_meta['units']                      # Search the metadata dictionary for the units\n",
    "    EVIData[EVIData == EVIFill] = np.nan           # Set the fill value equal to NaN for the array\n",
    "    EVIScaled = EVIData * scaleFactor              # Apply the scale factor using simple multiplication\n",
    "\n",
    "    # Generate statistics on the scaled data\n",
    "    EVIStats_sc = [np.nanmin(EVIScaled), np.nanmax(EVIScaled), np.nanmean(EVIScaled), np.nanstd(EVIScaled)] # Create a list of stats\n",
    "    \n",
    "    lut = glob.glob('**lookup.csv')                                        # Search for look up table \n",
    "    qualityFiles =glob.glob('MOD13Q1.006__250m_16_days_VI_Quality**.tif')  # Search the directory for the associated quality .tifs\n",
    "    quality = gdal.Open(qualityFiles[i])                                   # Open the first quality file\n",
    "    qualityData = quality.GetRasterBand(1).ReadAsArray()                   # Read in as an array\n",
    "    quality = None                                                         # Close the quality file\n",
    "    \n",
    "    v6_QA_lut = pd.read_csv(lut[0])     # Read in the lut\n",
    "    \n",
    "    # Include good quality based on MODLAND\n",
    "    v6_QA_lut = v6_QA_lut[v6_QA_lut['MODLAND'].isin(['VI produced with good quality', 'VI produced, but check other QA'])]\n",
    "\n",
    "    # Exclude lower quality VI usefulness\n",
    "    VIU =[\"Lowest quality\",\"Quality so low that it is not useful\",\"L1B data faulty\",\"Not useful for any other reason/not processed\"]\n",
    "    v6_QA_lut = v6_QA_lut[~v6_QA_lut['VI Usefulness'].isin(VIU)]\n",
    "\n",
    "    v6_QA_lut = v6_QA_lut[v6_QA_lut['Aerosol Quantity'].isin(['Low','Average'])]   # Include low or average aerosol\n",
    "    v6_QA_lut = v6_QA_lut[v6_QA_lut['Adjacent cloud detected'] == 'No' ]           # Include where adjacent cloud not detected\n",
    "    v6_QA_lut = v6_QA_lut[v6_QA_lut['Mixed Clouds'] == 'No' ]                      # Include where mixed clouds not detected\n",
    "    v6_QA_lut = v6_QA_lut[v6_QA_lut['Possible shadow'] == 'No' ]                   # Include where possible shadow not detected\n",
    "    \n",
    "    goodQuality = list(v6_QA_lut['Value']) # Retrieve list of possible QA values from the quality dataframe\n",
    "    EVI_masked = np.ma.MaskedArray(EVIScaled, np.in1d(qualityData, goodQuality, invert = True))    # Apply QA mask to the EVI data\n",
    "    \n",
    "    masked_compressed = EVI_masked.compressed() # Accessing only valid entries from the masked array\n",
    "\n",
    "    # Write all of the quality pixel values to a CSV file with the same name as the original .tif file\n",
    "    with open('D:/tyler/Documents/SCHOOL/SPRING_2021/project-code/Test Sets/MOD13Q1.006__250m_16_days_NDVI_CSV/' + f'{productId}{layerId}_{yeardoy}.csv', 'w') as file:\n",
    "        for j in range(len(masked_compressed)-1):\n",
    "            file.write(str(masked_compressed[j]) + ',\\n')\n",
    "        file.write(str(masked_compressed[-1]) + '\\n')\n",
    "\n",
    "# End timing\n",
    "print(f\"Time in seconds: {time.time() - start_time}\")"
   ]
  }
 ],
 "metadata": {
  "kernelspec": {
   "display_name": "Python 3",
   "language": "python",
   "name": "python3"
  },
  "language_info": {
   "codemirror_mode": {
    "name": "ipython",
    "version": 3
   },
   "file_extension": ".py",
   "mimetype": "text/x-python",
   "name": "python",
   "nbconvert_exporter": "python",
   "pygments_lexer": "ipython3",
   "version": "3.8.5"
  }
 },
 "nbformat": 4,
 "nbformat_minor": 4
}
